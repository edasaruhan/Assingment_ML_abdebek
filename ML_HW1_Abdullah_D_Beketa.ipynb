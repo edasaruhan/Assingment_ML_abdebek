{
 "cells": [
  {
   "cell_type": "markdown",
   "id": "781a1ddc",
   "metadata": {},
   "source": [
    "Assigment 1\n",
    "\n",
    "I want you to use 3 different feature scale methods separately. write a function for this and return the X_scaled variable. Compare the mean squared error results from the 3 methods and report your results. It would be better if you change the code completely into functions (function for cost calculation etc.).\n"
   ]
  },
  {
   "cell_type": "code",
   "execution_count": 33,
   "id": "c76a3721",
   "metadata": {},
   "outputs": [],
   "source": [
    "import numpy as np\n",
    "import matplotlib.pyplot as plt\n",
    "from sklearn.preprocessing import StandardScaler, MinMaxScaler, RobustScaler\n",
    "from sklearn.model_selection import train_test_split\n",
    "from sklearn.metrics import accuracy_score, confusion_matrix, classification_report, mean_squared_error\n",
    "import matplotlib.pyplot as plt\n",
    "import seaborn as sns\n",
    "\n",
    "\n",
    "# Generate synthetic data with different feature scales\n",
    "np.random.seed(0)\n",
    "\n",
    "# Daily temperature (feature x1) with a range of [20, 40] degrees Celsius\n",
    "temperature = 20 + 20 * np.random.rand(100, 1)\n",
    "\n",
    "# Ice cream sales (feature x2) with a range of [0, 200] units\n",
    "ice_cream_sales = 200 * np.random.rand(100, 1)\n",
    "\n",
    "# Combine temperature and ice cream sales into a single feature matrix X\n",
    "X = np.hstack((temperature, ice_cream_sales))\n",
    "\n",
    "# Daily profit (target variable y)\n",
    "# Assume that daily profit depends on the temperature, ice cream sales,\n",
    "# and some random noise (normal distribution)\n",
    "daily_profit = 1000 + 30 * temperature + 5 * ice_cream_sales + np.random.randn(100, 1)\n",
    "\n",
    "# Now, you have synthetic data to analyze and build a predictive model for daily profit based on temperature and ice cream sales.\n",
    "\n",
    "# Perform mean normalization (standardization) on input features\n",
    "\n",
    "#!!! create a function and scale our X and return X_scaled\n",
    "#!!! do this for whole method like max, mean and z-score \n",
    "#!!! compare the result\n",
    "\n",
    "def scale_data(X, scaling_technique='standardization'):\n",
    "    scaling_methods = {\n",
    "        'standardization': StandardScaler(),\n",
    "        'min_max': MinMaxScaler(),\n",
    "        'robust': RobustScaler()\n",
    "    }\n",
    "\n",
    "    scaler = scaling_methods.get(scaling_technique)\n",
    "\n",
    "    if scaler is None:\n",
    "        raise ValueError(\"Invalid scaling technique. Choose from 'standardization', 'min_max', or 'robust'.\")\n",
    "\n",
    "    X_scaled = scaler.fit_transform(X)\n",
    "    return X_scaled\n",
    "\n",
    "\n",
    "def evaluation_results(y_test, y_pred, w, b):\n",
    "    mse = mean_squared_error(y_test, y_pred)\n",
    "    print(\"Mean Squared Error:\", mse)\n",
    "\n",
    "    # Print the learned coefficients\n",
    "    print(\"Learned Coefficients (Weights):\")\n",
    "    print(w)\n",
    "    print(\"Bias (Intercept):\", b)\n",
    "\n"
   ]
  },
  {
   "cell_type": "code",
   "execution_count": 34,
   "id": "ee8eac05",
   "metadata": {},
   "outputs": [
    {
     "name": "stdout",
     "output_type": "stream",
     "text": [
      "Mean Squared Error: 195.43204059028065\n",
      "Learned Coefficients (Weights):\n",
      "[[277.53635774]\n",
      " [416.28767536]]\n",
      "Bias (Intercept): 2453.8580682040206\n"
     ]
    }
   ],
   "source": [
    "# Scale the input features X using mean (robust) normalization\n",
    "X_scaled = scale_data(X, scaling_technique='robust')\n",
    "\n",
    "# Define the target variable (daily profit) as the output y\n",
    "y = daily_profit\n",
    "\n",
    "\n",
    "# Split the data into training and testing sets\n",
    "X_train, X_test, y_train, y_test = train_test_split(X_scaled, y, test_size=0.2, random_state=0)\n",
    "\n",
    "# Rest of your code for linear regression, gradient descent, and evaluation\n",
    "# Initialize the weights and bias terms closer to zero\n",
    "n_features = X_train.shape[1]\n",
    "w = np.zeros((n_features, 1)) # Initialize weights with zeros\n",
    "b = 0\n",
    "\n",
    "# Use a smaller learning rate for smoother convergence\n",
    "alpha = 0.01  # Learning rate\n",
    "num_iterations = 1000\n",
    "\n",
    "# Implement gradient descent\n",
    "m = len(X_train)  # Number of training data points\n",
    "\n",
    "for iteration in range(num_iterations):\n",
    "    # Compute predictions\n",
    "    y_pred = np.dot(X_train, w) + b\n",
    "\n",
    "    # Compute gradients\n",
    "    w_gradient = (1 / m) * np.dot(X_train.T, (y_pred - y_train))\n",
    "    b_gradient = (1 / m) * np.sum(y_pred - y_train)\n",
    "\n",
    "    # Update weights and bias\n",
    "    w -= alpha * w_gradient.reshape(-1, 1)  # Reshape to match the shape of w\n",
    "    b -= alpha * b_gradient\n",
    "\n",
    "# Make predictions on the test data\n",
    "y_pred = np.dot(X_test, w) + b\n",
    "\n",
    "\n",
    "# Evaluate the model using Mean Squared Error (MSE)\n",
    "evaluation_results(y_test, y_pred, w, b)\n"
   ]
  },
  {
   "cell_type": "code",
   "execution_count": 35,
   "id": "9f1f451c",
   "metadata": {},
   "outputs": [
    {
     "name": "stdout",
     "output_type": "stream",
     "text": [
      "[[277.53635774]\n",
      " [416.28767536]]\n"
     ]
    }
   ],
   "source": [
    "print(w)"
   ]
  },
  {
   "cell_type": "code",
   "execution_count": 36,
   "id": "1a4547e2",
   "metadata": {},
   "outputs": [
    {
     "name": "stdout",
     "output_type": "stream",
     "text": [
      "Mean Squared Error: 0.8110670689820058\n",
      "Learned Coefficients (Weights):\n",
      "[[172.75879895]\n",
      " [276.64937111]]\n",
      "Bias (Intercept): 2411.492747754207\n"
     ]
    }
   ],
   "source": [
    "# Scale the input features X using z-score normalization (standardization)\n",
    "X_scaled = scale_data(X, scaling_technique='standardization')\n",
    "\n",
    "# Define the target variable (daily profit) as a vector y\n",
    "y = daily_profit\n",
    "\n",
    "\n",
    "# Split the data into training and testing sets\n",
    "X_train, X_test, y_train, y_test = train_test_split(X_scaled, y, test_size=0.2, random_state=42)\n",
    "\n",
    "# Rest of your code for linear regression, gradient descent, and evaluation\n",
    "# Initialize the weights and bias terms closer to zero\n",
    "n_features = X_train.shape[1]\n",
    "w = np.zeros((n_features, 1))  # Match the shape of the weights to (n_features, 1)\n",
    "b = 0\n",
    "\n",
    "# Use a smaller learning rate for smoother convergence\n",
    "alpha = 0.01  # Learning rate\n",
    "num_iterations = 1000\n",
    "\n",
    "# Implement gradient descent\n",
    "m = len(X_train)  # Number of training data points\n",
    "\n",
    "for iteration in range(num_iterations):\n",
    "    # Compute predictions\n",
    "    y_pred = np.dot(X_train, w) + b\n",
    "\n",
    "    # Compute gradients\n",
    "    w_gradient = (1 / m) * np.dot(X_train.T, (y_pred - y_train))\n",
    "    b_gradient = (1 / m) * np.sum(y_pred - y_train)\n",
    "\n",
    "    # Update weights and bias\n",
    "    w -= alpha * w_gradient.reshape(-1, 1)  # Reshape to match the shape of w\n",
    "    b -= alpha * b_gradient\n",
    "\n",
    "# Make predictions on the test data\n",
    "y_pred = np.dot(X_test, w) + b\n",
    "\n",
    "\n",
    "# Evaluate the model using Mean Squared Error (MSE)\n",
    "evaluation_results(y_test, y_pred, w, b)"
   ]
  },
  {
   "cell_type": "code",
   "execution_count": 37,
   "id": "b57e7adf",
   "metadata": {},
   "outputs": [
    {
     "name": "stdout",
     "output_type": "stream",
     "text": [
      "Mean Squared Error: 461.8905818934942\n",
      "Learned Coefficients (Weights):\n",
      "[[664.90298743]\n",
      " [947.21978952]]\n",
      "Bias (Intercept): 1599.9096765117727\n"
     ]
    }
   ],
   "source": [
    "# Scale the input features X using min-max normalization\n",
    "X_scaled = scale_data(X, scaling_technique='min_max')\n",
    "\n",
    "# Define the target variable (daily profit) as a vector y\n",
    "y = daily_profit\n",
    "\n",
    "\n",
    "# Split the data into training and testing sets\n",
    "X_train, X_test, y_train, y_test = train_test_split(X_scaled, y, test_size=0.2, random_state=42)\n",
    "\n",
    "# Rest of your code for linear regression, gradient descent, and evaluation\n",
    "# Initialize the weights and bias terms closer to zero\n",
    "n_features = X_train.shape[1]\n",
    "w = np.zeros((n_features, 1))  # Match the shape of the weights to (n_features, 1)\n",
    "b = 0\n",
    "\n",
    "# Use a smaller learning rate for smoother convergence\n",
    "alpha = 0.01  # Learning rate\n",
    "num_iterations = 1000\n",
    "\n",
    "# Implement gradient descent\n",
    "m = len(X_train)  # Number of training data points\n",
    "\n",
    "for iteration in range(num_iterations):\n",
    "    # Compute predictions\n",
    "    y_pred = np.dot(X_train, w) + b\n",
    "\n",
    "    # Compute gradients\n",
    "    w_gradient = (1 / m) * np.dot(X_train.T, (y_pred - y_train))\n",
    "    b_gradient = (1 / m) * np.sum(y_pred - y_train)\n",
    "\n",
    "    # Update weights and bias\n",
    "    w -= alpha * w_gradient.reshape(-1, 1)  # Reshape to match the shape of w\n",
    "    b -= alpha * b_gradient\n",
    "\n",
    "# Make predictions on the test data\n",
    "y_pred = np.dot(X_test, w) + b\n",
    "\n",
    "\n",
    "# Evaluate the model using Mean Squared Error (MSE)\n",
    "evaluation_results(y_test, y_pred, w, b)"
   ]
  },
  {
   "cell_type": "markdown",
   "id": "999f635b",
   "metadata": {},
   "source": [
    "## Conclusion:\n",
    "\n",
    "According to the mse results, the best method is the z-score normalization (standardization) method. The mse results are as follows:\n",
    "\n",
    "- Mean Normalization: 195.43\n",
    "- Standard: 0.81\n",
    "- Min-Max: 461.89"
   ]
  }
 ],
 "metadata": {
  "kernelspec": {
   "display_name": "Python 3 (ipykernel)",
   "language": "python",
   "name": "python3"
  },
  "language_info": {
   "codemirror_mode": {
    "name": "ipython",
    "version": 3
   },
   "file_extension": ".py",
   "mimetype": "text/x-python",
   "name": "python",
   "nbconvert_exporter": "python",
   "pygments_lexer": "ipython3",
   "version": "3.9.12"
  }
 },
 "nbformat": 4,
 "nbformat_minor": 5
}
